{
 "cells": [
  {
   "cell_type": "markdown",
   "id": "9a8da393",
   "metadata": {},
   "source": [
    "# Import Packages"
   ]
  },
  {
   "cell_type": "code",
   "execution_count": 2,
   "id": "767e935d",
   "metadata": {},
   "outputs": [],
   "source": [
    "import numpy as np\n",
    "import cv2\n",
    "import matplotlib.pyplot as plt\n",
    "from moviepy.editor import VideoFileClip\n",
    "from IPython.display import HTML\n",
    "\n",
    "%matplotlib inline"
   ]
  },
  {
   "cell_type": "markdown",
   "id": "9f6a0368",
   "metadata": {},
   "source": [
    "# Function To Plot Images"
   ]
  },
  {
   "cell_type": "code",
   "execution_count": 3,
   "id": "e18d79fe",
   "metadata": {},
   "outputs": [],
   "source": [
    "def plt_images(orig_image, orig_title, processed_image, processed_title, cmap='gray'):\n",
    "    # Visualize undirstorsion\n",
    "    f, (ax1, ax2) = plt.subplots(1, 2, figsize=(25, 10))\n",
    "    ax1.set_title(orig_title, fontsize=30)\n",
    "    ax1.imshow(orig_image)\n",
    "    ax2.set_title(processed_title, fontsize=30)\n",
    "    ax2.imshow(processed_image, cmap='gray')\n",
    "    plt.subplots_adjust(left=0., right=1, top=0.9, bottom=0.)"
   ]
  },
  {
   "cell_type": "markdown",
   "id": "44e9f511",
   "metadata": {},
   "source": [
    "# Applying Sobel Filter"
   ]
  },
  {
   "cell_type": "code",
   "execution_count": 4,
   "id": "10f4725d",
   "metadata": {},
   "outputs": [],
   "source": [
    "# Define a function that takes an image, gradient orientation,\n",
    "# and threshold min / max values.\n",
    "def abs_sobel_thresh(gray, orient='x', thresh=(0, 255)):\n",
    "    # Apply x or y gradient with the OpenCV Sobel() function\n",
    "    # and take the absolute value\n",
    "    if orient == 'x':\n",
    "        abs_sobel = np.absolute(cv2.Sobel(gray, cv2.CV_64F, 1, 0))\n",
    "    if orient == 'y':\n",
    "        abs_sobel = np.absolute(cv2.Sobel(gray, cv2.CV_64F, 0, 1))\n",
    "    # Rescale back to 8 bit integer\n",
    "    scaled_sobel = np.uint8(255*abs_sobel/np.max(abs_sobel))\n",
    "    # Create a copy and apply the threshold\n",
    "    binary_output = np.zeros_like(scaled_sobel)\n",
    "    binary_output[(scaled_sobel >= thresh[0]) & (scaled_sobel <= thresh[1])] = 1\n",
    "    sobel_mask = binary_output\n",
    "    # Return the result\n",
    "    return sobel_mask"
   ]
  },
  {
   "cell_type": "code",
   "execution_count": 5,
   "id": "671821db",
   "metadata": {},
   "outputs": [],
   "source": [
    "# Define a function that applies Sobel x and y, \n",
    "# then computes the direction of the gradient\n",
    "# and applies a threshold.\n",
    "# Define a function to threshold an image for a given range and Sobel kernel\n",
    "def dir_threshold(gray, sobel_kernel=3, thresh=(0, np.pi/2)):\n",
    "    # Grayscale\n",
    "    #gray = cv2.cvtColor(img, cv2.COLOR_RGB2GRAY)\n",
    "    # Calculate the x and y gradients\n",
    "    sobelx = cv2.Sobel(gray, cv2.CV_64F, 1, 0, ksize=sobel_kernel)\n",
    "    sobely = cv2.Sobel(gray, cv2.CV_64F, 0, 1, ksize=sobel_kernel)\n",
    "    # Take the absolute value of the gradient direction, \n",
    "    # apply a threshold, and create a binary image result\n",
    "    absgraddir = np.arctan2(np.absolute(sobely), np.absolute(sobelx))\n",
    "    binary_output =  np.zeros_like(absgraddir)\n",
    "    binary_output[(absgraddir >= thresh[0]) & (absgraddir <= thresh[1])] = 1\n",
    "    dir_mask = binary_output\n",
    "    # Return the binary image\n",
    "    return dir_mask"
   ]
  },
  {
   "cell_type": "code",
   "execution_count": 6,
   "id": "9819db5f",
   "metadata": {},
   "outputs": [],
   "source": [
    "def combine_thresh(img, s_thresh=(100, 255), l_thresh=(120, 255)):\n",
    "    \n",
    "    # Undistort\n",
    "    undist = cv2.undistort(img, cameraMatrix, distortionCoeffs, None, cameraMatrix)\n",
    "    # Convert to grayscale\n",
    "    gray = cv2.cvtColor(undist, cv2.COLOR_RGB2GRAY)\n",
    "    height, width = gray.shape\n",
    "    \n",
    "    #combined = ((grad_x == 1)  & (grad_y == 1) & (mag_binary == 1) & (dir_binary == 1))\n",
    "    grad_x = abs_sobel_thresh(gray, 'x', thresh=(10, 200))\n",
    "    dir_binary = dir_threshold(gray, thresh=(np.pi/6, np.pi/2))\n",
    "    combined = ((grad_x == 1) & (dir_binary == 1))\n",
    "    \n",
    "    # R & G thresholds so that yellow lanes are detected well.\n",
    "    color_threshold = 150\n",
    "    R = img[:,:,0]\n",
    "    G = img[:,:,1]\n",
    "    color_combined = np.zeros_like(R)\n",
    "    r_g_condition = (R > color_threshold) & (G > color_threshold)\n",
    "    \n",
    "    # Apply color threshold for better detection of yello and white lines in all environmental condition\n",
    "    hls = cv2.cvtColor(img, cv2.COLOR_RGB2HLS)\n",
    "    # Select S channel because it is usually the best performant\n",
    "    # for this task. R channel also performs similarly.\n",
    "    s_channel = hls[:,:,2] \n",
    "    l_channel = hls[:,:,1]\n",
    "    \n",
    "     # S channel performs well for detecting bright yellow and white lanes\n",
    "    s_condition = (s_channel > s_thresh[0]) & (s_channel <= s_thresh[1])\n",
    "    \n",
    "    # We put a threshold on the L channel to avoid pixels which have shadows and as a result darker.   \n",
    "    l_condition = (l_channel > l_thresh[0]) & (l_channel <= l_thresh[1])\n",
    "    \n",
    "    # combine all the thresholds\n",
    "    # A pixel should either be a yellowish or whiteish\n",
    "    # And it should also have a gradient, as per our thresholds\n",
    "    color_combined[(r_g_condition & l_condition) & (s_condition | combined)] = 1\n",
    "    \n",
    "    #binary_output[(s_channel >= thresh[0]) & (s_channel <= thresh[1])] = 1\n",
    "    # apply the region of interest mask\n",
    "    mask = np.zeros_like(color_combined)\n",
    "    region_of_interest_vertices = np.array([[0,height-1], [width/2, int(0.5*height)], [width-1, height-1]], dtype=np.int32)\n",
    "    cv2.fillPoly(mask, [region_of_interest_vertices], 1)\n",
    "    thresholded = cv2.bitwise_and(color_combined, mask)\n",
    "\n",
    "    return thresholded"
   ]
  },
  {
   "cell_type": "code",
   "execution_count": null,
   "id": "df484673",
   "metadata": {},
   "outputs": [],
   "source": []
  }
 ],
 "metadata": {
  "kernelspec": {
   "display_name": "Python 3 (ipykernel)",
   "language": "python",
   "name": "python3"
  },
  "language_info": {
   "codemirror_mode": {
    "name": "ipython",
    "version": 3
   },
   "file_extension": ".py",
   "mimetype": "text/x-python",
   "name": "python",
   "nbconvert_exporter": "python",
   "pygments_lexer": "ipython3",
   "version": "3.9.7"
  }
 },
 "nbformat": 4,
 "nbformat_minor": 5
}
